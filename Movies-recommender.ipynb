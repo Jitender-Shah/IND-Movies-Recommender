{
 "cells": [
  {
   "cell_type": "code",
   "execution_count": 2,
   "id": "09f8e3cd-3d0e-4e87-bcf6-a1694645d5b1",
   "metadata": {},
   "outputs": [],
   "source": [
    "import numpy as np\n",
    "import pandas as pd\n"
   ]
  },
  {
   "cell_type": "code",
   "execution_count": 3,
   "id": "8b90ff72-a0e3-456c-89f8-b7c28618666d",
   "metadata": {},
   "outputs": [],
   "source": [
    "movies = pd.read_csv(r\"C:\\Users\\Manish\\Downloads\\movie/IMDB-Movie-Dataset.csv\")"
   ]
  },
  {
   "cell_type": "code",
   "execution_count": 4,
   "id": "a100a0a4-ab4c-4587-95b7-96c3bf7099c2",
   "metadata": {},
   "outputs": [
    {
     "data": {
      "text/plain": [
       "'Shah Rukh Khan, Nayanthara, Vijay Sethupathi, Deepika Padukone'"
      ]
     },
     "execution_count": 4,
     "metadata": {},
     "output_type": "execute_result"
    }
   ],
   "source": [
    "movies['cast'][0]"
   ]
  },
  {
   "cell_type": "code",
   "execution_count": 5,
   "id": "9ef5c058-8410-4275-8a1a-bb7474d0d170",
   "metadata": {},
   "outputs": [],
   "source": [
    "movies['cast'] = movies['cast'].str.replace(',', '')\n"
   ]
  },
  {
   "cell_type": "code",
   "execution_count": 6,
   "id": "71dfb7f8-7d6e-498b-ad43-55b637598353",
   "metadata": {},
   "outputs": [
    {
     "data": {
      "text/html": [
       "<div>\n",
       "<style scoped>\n",
       "    .dataframe tbody tr th:only-of-type {\n",
       "        vertical-align: middle;\n",
       "    }\n",
       "\n",
       "    .dataframe tbody tr th {\n",
       "        vertical-align: top;\n",
       "    }\n",
       "\n",
       "    .dataframe thead th {\n",
       "        text-align: right;\n",
       "    }\n",
       "</style>\n",
       "<table border=\"1\" class=\"dataframe\">\n",
       "  <thead>\n",
       "    <tr style=\"text-align: right;\">\n",
       "      <th></th>\n",
       "      <th>Unnamed: 0</th>\n",
       "      <th>movie_id</th>\n",
       "      <th>movie_name</th>\n",
       "      <th>year</th>\n",
       "      <th>genre</th>\n",
       "      <th>overview</th>\n",
       "      <th>director</th>\n",
       "      <th>cast</th>\n",
       "    </tr>\n",
       "  </thead>\n",
       "  <tbody>\n",
       "    <tr>\n",
       "      <th>0</th>\n",
       "      <td>0</td>\n",
       "      <td>tt15354916</td>\n",
       "      <td>Jawan</td>\n",
       "      <td>2023</td>\n",
       "      <td>Action, Thriller</td>\n",
       "      <td>A high-octane action thriller which outlines t...</td>\n",
       "      <td>Atlee</td>\n",
       "      <td>Shah Rukh Khan Nayanthara Vijay Sethupathi Dee...</td>\n",
       "    </tr>\n",
       "    <tr>\n",
       "      <th>1</th>\n",
       "      <td>1</td>\n",
       "      <td>tt15748830</td>\n",
       "      <td>Jaane Jaan</td>\n",
       "      <td>2023</td>\n",
       "      <td>Crime, Drama, Mystery</td>\n",
       "      <td>A single mother and her daughter who commit a ...</td>\n",
       "      <td>Sujoy Ghosh</td>\n",
       "      <td>Kareena Kapoor Jaideep Ahlawat Vijay Varma Sau...</td>\n",
       "    </tr>\n",
       "    <tr>\n",
       "      <th>2</th>\n",
       "      <td>2</td>\n",
       "      <td>tt11663228</td>\n",
       "      <td>Jailer</td>\n",
       "      <td>2023</td>\n",
       "      <td>Action, Comedy, Crime</td>\n",
       "      <td>A retired jailer goes on a manhunt to find his...</td>\n",
       "      <td>Nelson Dilipkumar</td>\n",
       "      <td>Rajinikanth Mohanlal Shivarajkumar Jackie Shroff</td>\n",
       "    </tr>\n",
       "    <tr>\n",
       "      <th>3</th>\n",
       "      <td>3</td>\n",
       "      <td>tt14993250</td>\n",
       "      <td>Rocky Aur Rani Kii Prem Kahaani</td>\n",
       "      <td>2023</td>\n",
       "      <td>Comedy, Drama, Family</td>\n",
       "      <td>Flamboyant Punjabi Rocky and intellectual Beng...</td>\n",
       "      <td>Karan Johar</td>\n",
       "      <td>Ranveer Singh Alia Bhatt Dharmendra Shabana Azmi</td>\n",
       "    </tr>\n",
       "    <tr>\n",
       "      <th>4</th>\n",
       "      <td>4</td>\n",
       "      <td>tt15732324</td>\n",
       "      <td>OMG 2</td>\n",
       "      <td>2023</td>\n",
       "      <td>Comedy, Drama</td>\n",
       "      <td>An unhappy civilian asks the court to mandate ...</td>\n",
       "      <td>Amit Rai</td>\n",
       "      <td>Pankaj Tripathi Akshay Kumar Yami Gautam Pawan...</td>\n",
       "    </tr>\n",
       "  </tbody>\n",
       "</table>\n",
       "</div>"
      ],
      "text/plain": [
       "   Unnamed: 0    movie_id                       movie_name  year  \\\n",
       "0           0  tt15354916                            Jawan  2023   \n",
       "1           1  tt15748830                       Jaane Jaan  2023   \n",
       "2           2  tt11663228                           Jailer  2023   \n",
       "3           3  tt14993250  Rocky Aur Rani Kii Prem Kahaani  2023   \n",
       "4           4  tt15732324                            OMG 2  2023   \n",
       "\n",
       "                   genre                                           overview  \\\n",
       "0       Action, Thriller  A high-octane action thriller which outlines t...   \n",
       "1  Crime, Drama, Mystery  A single mother and her daughter who commit a ...   \n",
       "2  Action, Comedy, Crime  A retired jailer goes on a manhunt to find his...   \n",
       "3  Comedy, Drama, Family  Flamboyant Punjabi Rocky and intellectual Beng...   \n",
       "4          Comedy, Drama  An unhappy civilian asks the court to mandate ...   \n",
       "\n",
       "            director                                               cast  \n",
       "0              Atlee  Shah Rukh Khan Nayanthara Vijay Sethupathi Dee...  \n",
       "1        Sujoy Ghosh  Kareena Kapoor Jaideep Ahlawat Vijay Varma Sau...  \n",
       "2  Nelson Dilipkumar   Rajinikanth Mohanlal Shivarajkumar Jackie Shroff  \n",
       "3        Karan Johar   Ranveer Singh Alia Bhatt Dharmendra Shabana Azmi  \n",
       "4           Amit Rai  Pankaj Tripathi Akshay Kumar Yami Gautam Pawan...  "
      ]
     },
     "execution_count": 6,
     "metadata": {},
     "output_type": "execute_result"
    }
   ],
   "source": [
    "movies.head()"
   ]
  },
  {
   "cell_type": "code",
   "execution_count": 7,
   "id": "90dea15e-22f8-452f-afec-2cf48cbbbc55",
   "metadata": {},
   "outputs": [
    {
     "data": {
      "text/plain": [
       "Unnamed: 0     0\n",
       "movie_id       0\n",
       "movie_name     0\n",
       "year          65\n",
       "genre          0\n",
       "overview       0\n",
       "director       0\n",
       "cast           0\n",
       "dtype: int64"
      ]
     },
     "execution_count": 7,
     "metadata": {},
     "output_type": "execute_result"
    }
   ],
   "source": [
    "movies.isnull().sum()\n"
   ]
  },
  {
   "cell_type": "code",
   "execution_count": 8,
   "id": "6992b4ef-b0e0-4dcc-866e-c49314ebd943",
   "metadata": {},
   "outputs": [
    {
     "data": {
      "text/plain": [
       "0       2023\n",
       "1       2023\n",
       "2       2023\n",
       "3       2023\n",
       "4       2023\n",
       "        ... \n",
       "2194       0\n",
       "2195    2002\n",
       "2196    2021\n",
       "2197    1989\n",
       "2198    2001\n",
       "Name: year, Length: 2199, dtype: object"
      ]
     },
     "execution_count": 8,
     "metadata": {},
     "output_type": "execute_result"
    }
   ],
   "source": [
    "movies['year'].fillna(0)"
   ]
  },
  {
   "cell_type": "code",
   "execution_count": 9,
   "id": "bd6f605f-5d7b-4602-a92d-d91f9b1b5d4a",
   "metadata": {},
   "outputs": [],
   "source": [
    "\n",
    " movies['director'] = movies['director'].str.replace(\" \", \"\")\n",
    "\n",
    " movies['genre'] = movies['genre'].str.replace(\" \", \"\")\n",
    "\n"
   ]
  },
  {
   "cell_type": "code",
   "execution_count": 10,
   "id": "53744829-8640-428c-a42d-235cb5edcaa9",
   "metadata": {},
   "outputs": [],
   "source": [
    "movies['overview'] = movies['overview'].apply(lambda x:x.split())\n",
    "movies['genre'] = movies['genre'].apply(lambda x:x.split())\n",
    "movies['director'] = movies['director'].apply(lambda x:x.split())\n",
    "movies['cast'] = movies['cast'].apply(lambda x:x.split())"
   ]
  },
  {
   "cell_type": "code",
   "execution_count": 11,
   "id": "2b324eb7-6301-4591-b0e4-1f049d276fbf",
   "metadata": {},
   "outputs": [],
   "source": [
    "movies['tags'] = movies['overview'] + movies['genre'] + movies['director'] + movies['cast']\n"
   ]
  },
  {
   "cell_type": "code",
   "execution_count": 12,
   "id": "d9ed280b-b0e6-432f-88e4-cf8266422298",
   "metadata": {},
   "outputs": [],
   "source": [
    "new_df = movies[['movie_id','movie_name', 'year','tags']]"
   ]
  },
  {
   "cell_type": "code",
   "execution_count": 13,
   "id": "213efc5d-5ec9-4c9f-a3ef-c90924b93c22",
   "metadata": {},
   "outputs": [
    {
     "data": {
      "text/html": [
       "<div>\n",
       "<style scoped>\n",
       "    .dataframe tbody tr th:only-of-type {\n",
       "        vertical-align: middle;\n",
       "    }\n",
       "\n",
       "    .dataframe tbody tr th {\n",
       "        vertical-align: top;\n",
       "    }\n",
       "\n",
       "    .dataframe thead th {\n",
       "        text-align: right;\n",
       "    }\n",
       "</style>\n",
       "<table border=\"1\" class=\"dataframe\">\n",
       "  <thead>\n",
       "    <tr style=\"text-align: right;\">\n",
       "      <th></th>\n",
       "      <th>movie_id</th>\n",
       "      <th>movie_name</th>\n",
       "      <th>year</th>\n",
       "      <th>tags</th>\n",
       "    </tr>\n",
       "  </thead>\n",
       "  <tbody>\n",
       "    <tr>\n",
       "      <th>0</th>\n",
       "      <td>tt15354916</td>\n",
       "      <td>Jawan</td>\n",
       "      <td>2023</td>\n",
       "      <td>[A, high-octane, action, thriller, which, outl...</td>\n",
       "    </tr>\n",
       "    <tr>\n",
       "      <th>1</th>\n",
       "      <td>tt15748830</td>\n",
       "      <td>Jaane Jaan</td>\n",
       "      <td>2023</td>\n",
       "      <td>[A, single, mother, and, her, daughter, who, c...</td>\n",
       "    </tr>\n",
       "    <tr>\n",
       "      <th>2</th>\n",
       "      <td>tt11663228</td>\n",
       "      <td>Jailer</td>\n",
       "      <td>2023</td>\n",
       "      <td>[A, retired, jailer, goes, on, a, manhunt, to,...</td>\n",
       "    </tr>\n",
       "    <tr>\n",
       "      <th>3</th>\n",
       "      <td>tt14993250</td>\n",
       "      <td>Rocky Aur Rani Kii Prem Kahaani</td>\n",
       "      <td>2023</td>\n",
       "      <td>[Flamboyant, Punjabi, Rocky, and, intellectual...</td>\n",
       "    </tr>\n",
       "    <tr>\n",
       "      <th>4</th>\n",
       "      <td>tt15732324</td>\n",
       "      <td>OMG 2</td>\n",
       "      <td>2023</td>\n",
       "      <td>[An, unhappy, civilian, asks, the, court, to, ...</td>\n",
       "    </tr>\n",
       "  </tbody>\n",
       "</table>\n",
       "</div>"
      ],
      "text/plain": [
       "     movie_id                       movie_name  year  \\\n",
       "0  tt15354916                            Jawan  2023   \n",
       "1  tt15748830                       Jaane Jaan  2023   \n",
       "2  tt11663228                           Jailer  2023   \n",
       "3  tt14993250  Rocky Aur Rani Kii Prem Kahaani  2023   \n",
       "4  tt15732324                            OMG 2  2023   \n",
       "\n",
       "                                                tags  \n",
       "0  [A, high-octane, action, thriller, which, outl...  \n",
       "1  [A, single, mother, and, her, daughter, who, c...  \n",
       "2  [A, retired, jailer, goes, on, a, manhunt, to,...  \n",
       "3  [Flamboyant, Punjabi, Rocky, and, intellectual...  \n",
       "4  [An, unhappy, civilian, asks, the, court, to, ...  "
      ]
     },
     "execution_count": 13,
     "metadata": {},
     "output_type": "execute_result"
    }
   ],
   "source": [
    "new_df.head()"
   ]
  },
  {
   "cell_type": "code",
   "execution_count": 14,
   "id": "60c26402-7ba2-4d8b-8749-ec8d3ccab6c4",
   "metadata": {},
   "outputs": [
    {
     "name": "stderr",
     "output_type": "stream",
     "text": [
      "C:\\Users\\Manish\\AppData\\Local\\Temp\\ipykernel_22340\\1733669154.py:2: SettingWithCopyWarning: \n",
      "A value is trying to be set on a copy of a slice from a DataFrame.\n",
      "Try using .loc[row_indexer,col_indexer] = value instead\n",
      "\n",
      "See the caveats in the documentation: https://pandas.pydata.org/pandas-docs/stable/user_guide/indexing.html#returning-a-view-versus-a-copy\n",
      "  new_df['tags'] = new_df['tags'].astype(str)\n",
      "C:\\Users\\Manish\\AppData\\Local\\Temp\\ipykernel_22340\\1733669154.py:5: SettingWithCopyWarning: \n",
      "A value is trying to be set on a copy of a slice from a DataFrame.\n",
      "Try using .loc[row_indexer,col_indexer] = value instead\n",
      "\n",
      "See the caveats in the documentation: https://pandas.pydata.org/pandas-docs/stable/user_guide/indexing.html#returning-a-view-versus-a-copy\n",
      "  new_df['tags'] = new_df['tags'].str.replace(',', '').str.replace('[', '').str.replace(']', '')\n",
      "C:\\Users\\Manish\\AppData\\Local\\Temp\\ipykernel_22340\\1733669154.py:8: SettingWithCopyWarning: \n",
      "A value is trying to be set on a copy of a slice from a DataFrame.\n",
      "Try using .loc[row_indexer,col_indexer] = value instead\n",
      "\n",
      "See the caveats in the documentation: https://pandas.pydata.org/pandas-docs/stable/user_guide/indexing.html#returning-a-view-versus-a-copy\n",
      "  new_df['tags'] = new_df['tags'].str.replace(\"'\", \"\")\n"
     ]
    }
   ],
   "source": [
    "# Convert the tags column to strings\n",
    "new_df['tags'] = new_df['tags'].astype(str)\n",
    "\n",
    "# Remove commas and square brackets from the tags column\n",
    "new_df['tags'] = new_df['tags'].str.replace(',', '').str.replace('[', '').str.replace(']', '')\n",
    "\n",
    "# Remove apostrophes from each word in the tags column\n",
    "new_df['tags'] = new_df['tags'].str.replace(\"'\", \"\")\n"
   ]
  },
  {
   "cell_type": "code",
   "execution_count": 15,
   "id": "8cb79393-5f59-4a1d-9381-69d91d0b77a8",
   "metadata": {},
   "outputs": [
    {
     "data": {
      "text/html": [
       "<div>\n",
       "<style scoped>\n",
       "    .dataframe tbody tr th:only-of-type {\n",
       "        vertical-align: middle;\n",
       "    }\n",
       "\n",
       "    .dataframe tbody tr th {\n",
       "        vertical-align: top;\n",
       "    }\n",
       "\n",
       "    .dataframe thead th {\n",
       "        text-align: right;\n",
       "    }\n",
       "</style>\n",
       "<table border=\"1\" class=\"dataframe\">\n",
       "  <thead>\n",
       "    <tr style=\"text-align: right;\">\n",
       "      <th></th>\n",
       "      <th>movie_id</th>\n",
       "      <th>movie_name</th>\n",
       "      <th>year</th>\n",
       "      <th>tags</th>\n",
       "    </tr>\n",
       "  </thead>\n",
       "  <tbody>\n",
       "    <tr>\n",
       "      <th>0</th>\n",
       "      <td>tt15354916</td>\n",
       "      <td>Jawan</td>\n",
       "      <td>2023</td>\n",
       "      <td>A high-octane action thriller which outlines t...</td>\n",
       "    </tr>\n",
       "    <tr>\n",
       "      <th>1</th>\n",
       "      <td>tt15748830</td>\n",
       "      <td>Jaane Jaan</td>\n",
       "      <td>2023</td>\n",
       "      <td>A single mother and her daughter who commit a ...</td>\n",
       "    </tr>\n",
       "    <tr>\n",
       "      <th>2</th>\n",
       "      <td>tt11663228</td>\n",
       "      <td>Jailer</td>\n",
       "      <td>2023</td>\n",
       "      <td>A retired jailer goes on a manhunt to find his...</td>\n",
       "    </tr>\n",
       "    <tr>\n",
       "      <th>3</th>\n",
       "      <td>tt14993250</td>\n",
       "      <td>Rocky Aur Rani Kii Prem Kahaani</td>\n",
       "      <td>2023</td>\n",
       "      <td>Flamboyant Punjabi Rocky and intellectual Beng...</td>\n",
       "    </tr>\n",
       "    <tr>\n",
       "      <th>4</th>\n",
       "      <td>tt15732324</td>\n",
       "      <td>OMG 2</td>\n",
       "      <td>2023</td>\n",
       "      <td>An unhappy civilian asks the court to mandate ...</td>\n",
       "    </tr>\n",
       "  </tbody>\n",
       "</table>\n",
       "</div>"
      ],
      "text/plain": [
       "     movie_id                       movie_name  year  \\\n",
       "0  tt15354916                            Jawan  2023   \n",
       "1  tt15748830                       Jaane Jaan  2023   \n",
       "2  tt11663228                           Jailer  2023   \n",
       "3  tt14993250  Rocky Aur Rani Kii Prem Kahaani  2023   \n",
       "4  tt15732324                            OMG 2  2023   \n",
       "\n",
       "                                                tags  \n",
       "0  A high-octane action thriller which outlines t...  \n",
       "1  A single mother and her daughter who commit a ...  \n",
       "2  A retired jailer goes on a manhunt to find his...  \n",
       "3  Flamboyant Punjabi Rocky and intellectual Beng...  \n",
       "4  An unhappy civilian asks the court to mandate ...  "
      ]
     },
     "execution_count": 15,
     "metadata": {},
     "output_type": "execute_result"
    }
   ],
   "source": [
    "new_df.head()"
   ]
  },
  {
   "cell_type": "code",
   "execution_count": 16,
   "id": "7ba5f79f-e4e1-4d84-be56-9f10c54ab873",
   "metadata": {},
   "outputs": [
    {
     "name": "stderr",
     "output_type": "stream",
     "text": [
      "C:\\Users\\Manish\\AppData\\Local\\Temp\\ipykernel_22340\\872024405.py:1: SettingWithCopyWarning: \n",
      "A value is trying to be set on a copy of a slice from a DataFrame.\n",
      "Try using .loc[row_indexer,col_indexer] = value instead\n",
      "\n",
      "See the caveats in the documentation: https://pandas.pydata.org/pandas-docs/stable/user_guide/indexing.html#returning-a-view-versus-a-copy\n",
      "  new_df['tags'] = new_df['tags'].apply(lambda x: [word.replace(',', '').replace(\"'\", \"\") for word in x] if isinstance(x, list) else x)\n"
     ]
    }
   ],
   "source": [
    "new_df['tags'] = new_df['tags'].apply(lambda x: [word.replace(',', '').replace(\"'\", \"\") for word in x] if isinstance(x, list) else x)\n"
   ]
  },
  {
   "cell_type": "code",
   "execution_count": 17,
   "id": "a7b4e827-d643-4ade-a6b8-7c0e87545c02",
   "metadata": {},
   "outputs": [
    {
     "data": {
      "text/html": [
       "<div>\n",
       "<style scoped>\n",
       "    .dataframe tbody tr th:only-of-type {\n",
       "        vertical-align: middle;\n",
       "    }\n",
       "\n",
       "    .dataframe tbody tr th {\n",
       "        vertical-align: top;\n",
       "    }\n",
       "\n",
       "    .dataframe thead th {\n",
       "        text-align: right;\n",
       "    }\n",
       "</style>\n",
       "<table border=\"1\" class=\"dataframe\">\n",
       "  <thead>\n",
       "    <tr style=\"text-align: right;\">\n",
       "      <th></th>\n",
       "      <th>movie_id</th>\n",
       "      <th>movie_name</th>\n",
       "      <th>year</th>\n",
       "      <th>tags</th>\n",
       "    </tr>\n",
       "  </thead>\n",
       "  <tbody>\n",
       "    <tr>\n",
       "      <th>0</th>\n",
       "      <td>tt15354916</td>\n",
       "      <td>Jawan</td>\n",
       "      <td>2023</td>\n",
       "      <td>A high-octane action thriller which outlines t...</td>\n",
       "    </tr>\n",
       "    <tr>\n",
       "      <th>1</th>\n",
       "      <td>tt15748830</td>\n",
       "      <td>Jaane Jaan</td>\n",
       "      <td>2023</td>\n",
       "      <td>A single mother and her daughter who commit a ...</td>\n",
       "    </tr>\n",
       "    <tr>\n",
       "      <th>2</th>\n",
       "      <td>tt11663228</td>\n",
       "      <td>Jailer</td>\n",
       "      <td>2023</td>\n",
       "      <td>A retired jailer goes on a manhunt to find his...</td>\n",
       "    </tr>\n",
       "    <tr>\n",
       "      <th>3</th>\n",
       "      <td>tt14993250</td>\n",
       "      <td>Rocky Aur Rani Kii Prem Kahaani</td>\n",
       "      <td>2023</td>\n",
       "      <td>Flamboyant Punjabi Rocky and intellectual Beng...</td>\n",
       "    </tr>\n",
       "    <tr>\n",
       "      <th>4</th>\n",
       "      <td>tt15732324</td>\n",
       "      <td>OMG 2</td>\n",
       "      <td>2023</td>\n",
       "      <td>An unhappy civilian asks the court to mandate ...</td>\n",
       "    </tr>\n",
       "  </tbody>\n",
       "</table>\n",
       "</div>"
      ],
      "text/plain": [
       "     movie_id                       movie_name  year  \\\n",
       "0  tt15354916                            Jawan  2023   \n",
       "1  tt15748830                       Jaane Jaan  2023   \n",
       "2  tt11663228                           Jailer  2023   \n",
       "3  tt14993250  Rocky Aur Rani Kii Prem Kahaani  2023   \n",
       "4  tt15732324                            OMG 2  2023   \n",
       "\n",
       "                                                tags  \n",
       "0  A high-octane action thriller which outlines t...  \n",
       "1  A single mother and her daughter who commit a ...  \n",
       "2  A retired jailer goes on a manhunt to find his...  \n",
       "3  Flamboyant Punjabi Rocky and intellectual Beng...  \n",
       "4  An unhappy civilian asks the court to mandate ...  "
      ]
     },
     "execution_count": 17,
     "metadata": {},
     "output_type": "execute_result"
    }
   ],
   "source": [
    "new_df.head()"
   ]
  },
  {
   "cell_type": "code",
   "execution_count": 18,
   "id": "5c7b21ee-4c9b-4a69-aabe-e3ceeadc4274",
   "metadata": {},
   "outputs": [],
   "source": [
    "import string\n",
    "\n",
    "def preprocess_text(text):\n",
    "    # Remove punctuation\n",
    "    text = ''.join([char for char in text if char not in string.punctuation])\n",
    "    # Convert text to lowercase\n",
    "    text = text.lower()\n",
    "    return text\n"
   ]
  },
  {
   "cell_type": "code",
   "execution_count": 19,
   "id": "aeb13561-ace6-4878-bb76-897805eebf47",
   "metadata": {},
   "outputs": [],
   "source": [
    "from sklearn.feature_extraction.text import CountVectorizer\n",
    "\n",
    "# Initialize CountVectorizer with custom preprocessor\n",
    "cv = CountVectorizer(max_features=5000, stop_words='english', preprocessor=preprocess_text)\n"
   ]
  },
  {
   "cell_type": "code",
   "execution_count": 20,
   "id": "792ec83f-2621-4d4d-903f-10a68c2a7bbe",
   "metadata": {},
   "outputs": [],
   "source": [
    " vectors = cv.fit_transform(new_df['tags']).toarray()"
   ]
  },
  {
   "cell_type": "code",
   "execution_count": 21,
   "id": "66a5b8b1-b44b-4664-8a81-cb6ee60f6123",
   "metadata": {},
   "outputs": [
    {
     "name": "stderr",
     "output_type": "stream",
     "text": [
      "C:\\Users\\Manish\\AppData\\Local\\Temp\\ipykernel_22340\\2837060901.py:2: SettingWithCopyWarning: \n",
      "A value is trying to be set on a copy of a slice from a DataFrame.\n",
      "Try using .loc[row_indexer,col_indexer] = value instead\n",
      "\n",
      "See the caveats in the documentation: https://pandas.pydata.org/pandas-docs/stable/user_guide/indexing.html#returning-a-view-versus-a-copy\n",
      "  new_df['tags'] = new_df['tags'].str.lower()\n"
     ]
    }
   ],
   "source": [
    "# Convert all text in the 'tags' column to lowercase\n",
    "new_df['tags'] = new_df['tags'].str.lower()\n"
   ]
  },
  {
   "cell_type": "code",
   "execution_count": 33,
   "id": "04ab7925-d30e-47b1-bc35-3dbd1df30bff",
   "metadata": {},
   "outputs": [
    {
     "data": {
      "text/html": [
       "<div>\n",
       "<style scoped>\n",
       "    .dataframe tbody tr th:only-of-type {\n",
       "        vertical-align: middle;\n",
       "    }\n",
       "\n",
       "    .dataframe tbody tr th {\n",
       "        vertical-align: top;\n",
       "    }\n",
       "\n",
       "    .dataframe thead th {\n",
       "        text-align: right;\n",
       "    }\n",
       "</style>\n",
       "<table border=\"1\" class=\"dataframe\">\n",
       "  <thead>\n",
       "    <tr style=\"text-align: right;\">\n",
       "      <th></th>\n",
       "      <th>movie_id</th>\n",
       "      <th>movie_name</th>\n",
       "      <th>year</th>\n",
       "      <th>tags</th>\n",
       "    </tr>\n",
       "  </thead>\n",
       "  <tbody>\n",
       "    <tr>\n",
       "      <th>0</th>\n",
       "      <td>tt15354916</td>\n",
       "      <td>Jawan</td>\n",
       "      <td>2023</td>\n",
       "      <td>a high-octane action thriller which outlines t...</td>\n",
       "    </tr>\n",
       "    <tr>\n",
       "      <th>1</th>\n",
       "      <td>tt15748830</td>\n",
       "      <td>Jaane Jaan</td>\n",
       "      <td>2023</td>\n",
       "      <td>a single mother and her daughter who commit a ...</td>\n",
       "    </tr>\n",
       "    <tr>\n",
       "      <th>2</th>\n",
       "      <td>tt11663228</td>\n",
       "      <td>Jailer</td>\n",
       "      <td>2023</td>\n",
       "      <td>a retired jailer goes on a manhunt to find his...</td>\n",
       "    </tr>\n",
       "    <tr>\n",
       "      <th>3</th>\n",
       "      <td>tt14993250</td>\n",
       "      <td>Rocky Aur Rani Kii Prem Kahaani</td>\n",
       "      <td>2023</td>\n",
       "      <td>flamboyant punjabi rocky and intellectual beng...</td>\n",
       "    </tr>\n",
       "    <tr>\n",
       "      <th>4</th>\n",
       "      <td>tt15732324</td>\n",
       "      <td>OMG 2</td>\n",
       "      <td>2023</td>\n",
       "      <td>an unhappy civilian asks the court to mandate ...</td>\n",
       "    </tr>\n",
       "    <tr>\n",
       "      <th>...</th>\n",
       "      <td>...</td>\n",
       "      <td>...</td>\n",
       "      <td>...</td>\n",
       "      <td>...</td>\n",
       "    </tr>\n",
       "    <tr>\n",
       "      <th>2189</th>\n",
       "      <td>tt0833537</td>\n",
       "      <td>Souten: The Other Woman</td>\n",
       "      <td>2006</td>\n",
       "      <td>after the accidental death of her lover mitali...</td>\n",
       "    </tr>\n",
       "    <tr>\n",
       "      <th>2190</th>\n",
       "      <td>tt0314186</td>\n",
       "      <td>Humko Tumse Pyaar Hai</td>\n",
       "      <td>2006</td>\n",
       "      <td>a blind woman is taken care by a wealthy noble...</td>\n",
       "    </tr>\n",
       "    <tr>\n",
       "      <th>2191</th>\n",
       "      <td>tt0072972</td>\n",
       "      <td>Faraar</td>\n",
       "      <td>1975</td>\n",
       "      <td>when two lovers separated due to financial cir...</td>\n",
       "    </tr>\n",
       "    <tr>\n",
       "      <th>2192</th>\n",
       "      <td>tt0047561</td>\n",
       "      <td>Taxi Driver</td>\n",
       "      <td>1954</td>\n",
       "      <td>mangal drives a taxi by day then drinks at nig...</td>\n",
       "    </tr>\n",
       "    <tr>\n",
       "      <th>2193</th>\n",
       "      <td>tt0214832</td>\n",
       "      <td>Kalicharan</td>\n",
       "      <td>1976</td>\n",
       "      <td>a police officer goes undercover to catch a we...</td>\n",
       "    </tr>\n",
       "  </tbody>\n",
       "</table>\n",
       "<p>2194 rows × 4 columns</p>\n",
       "</div>"
      ],
      "text/plain": [
       "        movie_id                       movie_name  year  \\\n",
       "0     tt15354916                            Jawan  2023   \n",
       "1     tt15748830                       Jaane Jaan  2023   \n",
       "2     tt11663228                           Jailer  2023   \n",
       "3     tt14993250  Rocky Aur Rani Kii Prem Kahaani  2023   \n",
       "4     tt15732324                            OMG 2  2023   \n",
       "...          ...                              ...   ...   \n",
       "2189   tt0833537          Souten: The Other Woman  2006   \n",
       "2190   tt0314186            Humko Tumse Pyaar Hai  2006   \n",
       "2191   tt0072972                           Faraar  1975   \n",
       "2192   tt0047561                      Taxi Driver  1954   \n",
       "2193   tt0214832                       Kalicharan  1976   \n",
       "\n",
       "                                                   tags  \n",
       "0     a high-octane action thriller which outlines t...  \n",
       "1     a single mother and her daughter who commit a ...  \n",
       "2     a retired jailer goes on a manhunt to find his...  \n",
       "3     flamboyant punjabi rocky and intellectual beng...  \n",
       "4     an unhappy civilian asks the court to mandate ...  \n",
       "...                                                 ...  \n",
       "2189  after the accidental death of her lover mitali...  \n",
       "2190  a blind woman is taken care by a wealthy noble...  \n",
       "2191  when two lovers separated due to financial cir...  \n",
       "2192  mangal drives a taxi by day then drinks at nig...  \n",
       "2193  a police officer goes undercover to catch a we...  \n",
       "\n",
       "[2194 rows x 4 columns]"
      ]
     },
     "execution_count": 33,
     "metadata": {},
     "output_type": "execute_result"
    }
   ],
   "source": [
    "new_df.head(-5)"
   ]
  },
  {
   "cell_type": "code",
   "execution_count": 23,
   "id": "ea98cf0c-00d9-4e48-b4f0-b6d5992857ae",
   "metadata": {},
   "outputs": [],
   "source": [
    "import numpy as np\n",
    "from sklearn.metrics.pairwise import cosine_similarity \n",
    "\n",
    "# Assuming 'vectors' is your feature vectors\n",
    "similarity = cosine_similarity(vectors)\n",
    "\n",
    "# Convert the similarity matrix to arrays\n",
    "similarity_arrays = np.array(similarity)\n",
    "\n",
    "# Now you can use similarity_arrays as arrays\n"
   ]
  },
  {
   "cell_type": "code",
   "execution_count": 24,
   "id": "eab65450-5a76-40af-b6be-9bf4bf7842d5",
   "metadata": {},
   "outputs": [
    {
     "data": {
      "text/plain": [
       "array([0.05143445, 1.        , 0.        , ..., 0.        , 0.        ,\n",
       "       0.        ])"
      ]
     },
     "execution_count": 24,
     "metadata": {},
     "output_type": "execute_result"
    }
   ],
   "source": [
    " similarity[1]"
   ]
  },
  {
   "cell_type": "code",
   "execution_count": 25,
   "id": "fd945c91-7ae1-4333-9a7b-207c2b78a976",
   "metadata": {},
   "outputs": [
    {
     "data": {
      "text/plain": [
       "[(154, 0.30151134457776363),\n",
       " (1071, 0.2858309752375148),\n",
       " (147, 0.27498597046143514),\n",
       " (38, 0.27036903521793754),\n",
       " (191, 0.26352313834736496)]"
      ]
     },
     "execution_count": 25,
     "metadata": {},
     "output_type": "execute_result"
    }
   ],
   "source": [
    "sorted(list(enumerate(similarity[0])), reverse=True, key=lambda x: x[1])[1:6]\n"
   ]
  },
  {
   "cell_type": "code",
   "execution_count": 26,
   "id": "ad8a9084-9970-43bc-8f1d-62970a97d419",
   "metadata": {},
   "outputs": [],
   "source": [
    "def recommend(movie):\n",
    "    movie_index = new_df[new_df['movie_name'] == movie].index[0]\n",
    "    distances = similarity[movie_index]\n",
    "    movies_list = sorted(list(enumerate(distances)), reverse=True, key=lambda x: x[1])[1:6]\n",
    "    for i in movies_list:\n",
    "        \n",
    "       print(new_df.iloc[i[0]].movie_name)\n",
    "        \n"
   ]
  },
  {
   "cell_type": "code",
   "execution_count": 27,
   "id": "f0b8a116-8cd2-4898-aaf1-31aafd6f9852",
   "metadata": {},
   "outputs": [
    {
     "name": "stdout",
     "output_type": "stream",
     "text": [
      "Khiladiyon Ka Khiladi\n",
      "Housefull 5\n",
      "Bachchhan Paandey\n",
      "Sherdil\n",
      "OMG: Oh My God!\n"
     ]
    }
   ],
   "source": [
    "recommend('OMG 2')"
   ]
  },
  {
   "cell_type": "code",
   "execution_count": 28,
   "id": "7955c734-5d5b-44ea-bec7-04a9f428bf93",
   "metadata": {},
   "outputs": [
    {
     "name": "stderr",
     "output_type": "stream",
     "text": [
      "ERROR: Could not find a version that satisfies the requirement pickle (from versions: none)\n",
      "ERROR: No matching distribution found for pickle\n"
     ]
    }
   ],
   "source": [
    "!pip install pickle\n"
   ]
  },
  {
   "cell_type": "code",
   "execution_count": 29,
   "id": "c0c41395-8251-4877-b2ad-8cd371687724",
   "metadata": {},
   "outputs": [],
   "source": [
    "import pickle"
   ]
  },
  {
   "cell_type": "code",
   "execution_count": 30,
   "id": "89c403fd-881e-4015-bf35-1a773ff44c81",
   "metadata": {},
   "outputs": [],
   "source": [
    "pickle.dump(new_df,open('movies.pkl','wb'))"
   ]
  },
  {
   "cell_type": "code",
   "execution_count": 31,
   "id": "136d370c-0750-4ea9-80c7-a3a142c5e034",
   "metadata": {},
   "outputs": [],
   "source": [
    "import pickle\n",
    "\n",
    "# Dump the similarity matrix to a .pkl file\n",
    "pickle.dump(similarity, open('similarity.pkl', 'wb'))\n"
   ]
  },
  {
   "cell_type": "code",
   "execution_count": null,
   "id": "f8e7031c-6f7b-425e-92c4-25e2a61ee608",
   "metadata": {},
   "outputs": [],
   "source": []
  }
 ],
 "metadata": {
  "kernelspec": {
   "display_name": "Python 3 (ipykernel)",
   "language": "python",
   "name": "python3"
  },
  "language_info": {
   "codemirror_mode": {
    "name": "ipython",
    "version": 3
   },
   "file_extension": ".py",
   "mimetype": "text/x-python",
   "name": "python",
   "nbconvert_exporter": "python",
   "pygments_lexer": "ipython3",
   "version": "3.12.2"
  }
 },
 "nbformat": 4,
 "nbformat_minor": 5
}
